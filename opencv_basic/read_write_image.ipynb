{
  "nbformat": 4,
  "nbformat_minor": 0,
  "metadata": {
    "colab": {
      "name": "read_write_image.ipynb",
      "provenance": [],
      "collapsed_sections": [],
      "include_colab_link": true
    },
    "kernelspec": {
      "name": "python3",
      "display_name": "Python 3"
    },
    "language_info": {
      "name": "python"
    }
  },
  "cells": [
    {
      "cell_type": "markdown",
      "metadata": {
        "id": "view-in-github",
        "colab_type": "text"
      },
      "source": [
        "<a href=\"https://colab.research.google.com/github/Irfanazhari1/label-1/blob/main/opencv_basic/read_write_image.ipynb\" target=\"_parent\"><img src=\"https://colab.research.google.com/assets/colab-badge.svg\" alt=\"Open In Colab\"/></a>"
      ]
    },
    {
      "cell_type": "code",
      "metadata": {
        "colab": {
          "base_uri": "https://localhost:8080/"
        },
        "id": "yiWDK-jTwIPy",
        "outputId": "cfd46822-3519-45b0-a900-0bd7be976d61"
      },
      "source": [
        "!wget https://www.dropbox.com/s/xg78kiae02d4u8f/Conan.jpg --no-check-certificate"
      ],
      "execution_count": 7,
      "outputs": [
        {
          "output_type": "stream",
          "name": "stdout",
          "text": [
            "--2021-11-09 13:13:59--  https://www.dropbox.com/s/xg78kiae02d4u8f/Conan.jpg\n",
            "Resolving www.dropbox.com (www.dropbox.com)... 162.125.65.18, 2620:100:6027:18::a27d:4812\n",
            "Connecting to www.dropbox.com (www.dropbox.com)|162.125.65.18|:443... connected.\n",
            "HTTP request sent, awaiting response... 301 Moved Permanently\n",
            "Location: /s/raw/xg78kiae02d4u8f/Conan.jpg [following]\n",
            "--2021-11-09 13:13:59--  https://www.dropbox.com/s/raw/xg78kiae02d4u8f/Conan.jpg\n",
            "Reusing existing connection to www.dropbox.com:443.\n",
            "HTTP request sent, awaiting response... 302 Found\n",
            "Location: https://uc89fa5d9ec0921ca94043145153.dl.dropboxusercontent.com/cd/0/inline/BZpA05KBjN5W87fumXu4G3xIeD9HdRTGKSVrnkb70stdTGDhOEf9dYAu97GZHdmT_3rYgNEo4EfasJi79O4V4S_Lh5OQ04b-TkWhHnY15M_CKL6qnwVrx7uWAaimNvK1wU-OzMPGaCodtvWa5nZfA4ID/file# [following]\n",
            "--2021-11-09 13:13:59--  https://uc89fa5d9ec0921ca94043145153.dl.dropboxusercontent.com/cd/0/inline/BZpA05KBjN5W87fumXu4G3xIeD9HdRTGKSVrnkb70stdTGDhOEf9dYAu97GZHdmT_3rYgNEo4EfasJi79O4V4S_Lh5OQ04b-TkWhHnY15M_CKL6qnwVrx7uWAaimNvK1wU-OzMPGaCodtvWa5nZfA4ID/file\n",
            "Resolving uc89fa5d9ec0921ca94043145153.dl.dropboxusercontent.com (uc89fa5d9ec0921ca94043145153.dl.dropboxusercontent.com)... 162.125.65.15, 2620:100:6027:15::a27d:480f\n",
            "Connecting to uc89fa5d9ec0921ca94043145153.dl.dropboxusercontent.com (uc89fa5d9ec0921ca94043145153.dl.dropboxusercontent.com)|162.125.65.15|:443... connected.\n",
            "HTTP request sent, awaiting response... 200 OK\n",
            "Length: 49612 (48K) [image/jpeg]\n",
            "Saving to: ‘Conan.jpg’\n",
            "\n",
            "Conan.jpg           100%[===================>]  48.45K  --.-KB/s    in 0.005s  \n",
            "\n",
            "2021-11-09 13:14:00 (9.04 MB/s) - ‘Conan.jpg’ saved [49612/49612]\n",
            "\n"
          ]
        }
      ]
    },
    {
      "cell_type": "code",
      "metadata": {
        "id": "oj4cMJQKwSuQ"
      },
      "source": [
        "# import the necessary packages\n",
        "from matplotlib import pyplot as plt\n",
        "import argparse\n",
        "import cv2"
      ],
      "execution_count": null,
      "outputs": []
    },
    {
      "cell_type": "code",
      "metadata": {
        "id": "Kg-H2DOswU_D"
      },
      "source": [
        "def plt_imshow(title, image):\n",
        "\t# convert the image frame BGR to RGB color space and display it\n",
        "\timage = cv2.cvtColor(image, cv2.COLOR_BGR2RGB)\n",
        "\tplt.imshow(image)\n",
        "\tplt.title(title)\n",
        "\tplt.grid(False)\n",
        "\tplt.show()"
      ],
      "execution_count": null,
      "outputs": []
    },
    {
      "cell_type": "code",
      "metadata": {
        "id": "9307r85YwVaD"
      },
      "source": [
        "# construct the argument parser and parse the arguments\n",
        "#ap = argparse.ArgumentParser()\n",
        "#ap.add_argument(\"-i\", \"--image\", required=True,\n",
        "#    help=\"path to input image\")\n",
        "#args = vars(ap.parse_args())\n",
        "\n",
        "# since we are using Jupyter Notebooks we can replace our argument\n",
        "# parsing code with *hard coded* arguments and values\n",
        "args = {\n",
        "\t\"image\": \"Conan.jpg\",\n",
        "}"
      ],
      "execution_count": null,
      "outputs": []
    },
    {
      "cell_type": "code",
      "metadata": {
        "colab": {
          "base_uri": "https://localhost:8080/"
        },
        "id": "_RoByEGSwZ0Z",
        "outputId": "396d6713-a323-4599-ee8b-567143c18860"
      },
      "source": [
        "# load the image from disk via \"cv2.imread\" and then grab the spatial\n",
        "# dimensions, including width, height, and number of channels\n",
        "image = cv2.imread(args[\"image\"])\n",
        "(h, w, c) = image.shape[:3]\n",
        "\n",
        "# display the image width, height, and number of channels to our\n",
        "# terminal\n",
        "print(\"width: {} pixels\".format(image.shape[1]))\n",
        "print(\"height: {}  pixels\".format(image.shape[0]))\n",
        "print(\"channels: {}\".format(image.shape[2]))"
      ],
      "execution_count": null,
      "outputs": [
        {
          "output_type": "stream",
          "name": "stdout",
          "text": [
            "width: 128 pixels\n",
            "height: 128  pixels\n",
            "channels: 3\n"
          ]
        }
      ]
    },
    {
      "cell_type": "code",
      "metadata": {
        "id": "hMSDV4KywcIh"
      },
      "source": [
        "# show the image and wait for a keypress\n",
        "plt_imshow(\"Image\", image)\n",
        "\n",
        "# save the image back to disk (OpenCV handles converting image\n",
        "# filetypes automatically)\n",
        "cv2.imwrite(\"conannn_new.jpg\", image)"
      ],
      "execution_count": null,
      "outputs": []
    }
  ]
}